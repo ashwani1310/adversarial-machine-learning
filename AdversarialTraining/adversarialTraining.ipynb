{
  "nbformat": 4,
  "nbformat_minor": 0,
  "metadata": {
    "accelerator": "GPU",
    "colab": {
      "name": "Problem3.ipynb",
      "provenance": [],
      "collapsed_sections": []
    },
    "kernelspec": {
      "display_name": "Python 3",
      "language": "python",
      "name": "python3"
    },
    "language_info": {
      "codemirror_mode": {
        "name": "ipython",
        "version": 3
      },
      "file_extension": ".py",
      "mimetype": "text/x-python",
      "name": "python",
      "nbconvert_exporter": "python",
      "pygments_lexer": "ipython3",
      "version": "3.8.8"
    }
  },
  "cells": [
    {
      "cell_type": "code",
      "metadata": {
        "id": "p-BLjT_p-Elc"
      },
      "source": [
        "# Imports.\n",
        "import random\n",
        "import copy\n",
        "import network.network as Network\n",
        "import network.mnist_loader as mnist_loader\n",
        "import pickle\n",
        "import matplotlib.pyplot as plt\n",
        "import numpy as np\n",
        "\n",
        "# Set the random seed. DO NOT CHANGE THIS!\n",
        "seedVal = 41\n",
        "random.seed(seedVal)\n",
        "np.random.seed(seedVal)\n",
        "\n",
        "BINARY_THRESHOLD = 0.5\n",
        "\n",
        "%matplotlib inline"
      ],
      "execution_count": null,
      "outputs": []
    },
    {
      "cell_type": "markdown",
      "metadata": {
        "id": "VmSaJwK7-Elg"
      },
      "source": [
        "Use a pre-trained network. It has been saved as a pickle file. Load the model, and continue.\n",
        "The network has only one hidden layer of 30 units, 784 input units (MNIST images are $ 28 \\times 28 = 784 $ pixels large), and 10 output units. All the activations are sigmoidal."
      ]
    },
    {
      "cell_type": "code",
      "metadata": {
        "id": "IOpxTFON-Eli"
      },
      "source": [
        "# Load the pre-trained model.\n",
        "with open('network/trained_network.pkl', 'rb') as f:\n",
        "    u = pickle._Unpickler(f)\n",
        "    u.encoding = 'latin1'\n",
        "    net = u.load()\n",
        "\n",
        "# Helpful function to load the MNIST data.\n",
        "training_data, validation_data, test_data = mnist_loader.load_data_wrapper()"
      ],
      "execution_count": null,
      "outputs": []
    },
    {
      "cell_type": "markdown",
      "metadata": {
        "id": "to-fyBKf-Eli"
      },
      "source": [
        "The neural network is pretrained, so it should already be set up to predict characters. Run `predict(n)` to evaluate the $ n^{th} $ digit in the test set using the network. You should see that even this relatively simple network works really well (~97% accuracy). The output of the network is a one-hot vector indicating the network's predictions:"
      ]
    },
    {
      "cell_type": "code",
      "metadata": {
        "colab": {
          "base_uri": "https://localhost:8080/",
          "height": 525
        },
        "id": "SEhsQ4ez-Elj",
        "outputId": "8f16aed2-f04d-4181-fa10-7deaf174f178"
      },
      "source": [
        "def predict(n):\n",
        "    # Get the data from the test set\n",
        "    x = test_data[n][0]\n",
        "    \n",
        "    # Print the prediction of the network\n",
        "    print('Network output: \\n' + str(np.round(net.feedforward(x), 2)) + '\\n')\n",
        "    print('Network prediction: ' + str(np.argmax(net.feedforward(x))) + '\\n')\n",
        "    print('Actual image: ')\n",
        "    \n",
        "    # Draw the image\n",
        "    plt.imshow(x.reshape((28,28)), cmap='Greys')\n",
        "\n",
        "# Replace the argument with any number between 0 and 9999\n",
        "predict(8384)"
      ],
      "execution_count": null,
      "outputs": [
        {
          "name": "stdout",
          "output_type": "stream",
          "text": [
            "Network output: \n",
            "[[0.]\n",
            " [0.]\n",
            " [0.]\n",
            " [0.]\n",
            " [0.]\n",
            " [0.]\n",
            " [0.]\n",
            " [0.]\n",
            " [1.]\n",
            " [0.]]\n",
            "\n",
            "Network prediction: 8\n",
            "\n",
            "Actual image: \n"
          ]
        },
        {
          "data": {
            "image/png": "[encoded data removed]",
            "text/plain": [
              "<Figure size 432x288 with 1 Axes>"
            ]
          },
          "metadata": {
            "needs_background": "light"
          },
          "output_type": "display_data"
        }
      ]
    },
    {
      "cell_type": "markdown",
      "metadata": {
        "id": "3r8vSd_u-Elk"
      },
      "source": [
        "To actually generate adversarial examples we solve a minimization problem. We do this by setting a \"goal\" label called $ \\vec y_{goal} $ (for instance, if we wanted the network to think the adversarial image is an 8, then we would choose $ \\vec y_{goal} $ to be a one-hot vector with the eighth entry being 1). Now we define a cost function:\n",
        "\n",
        "$$ C = \\frac{1}{2} \\|\\vec y_{goal} - \\hat y(\\vec x)\\|^2_2 $$\n",
        "\n",
        "where $ \\| \\cdot \\|^2_2 $ is the squared Euclidean norm and $ \\hat y $ is the network's output. It is a function of $ \\vec x $, the input image to the network, so we write $ \\hat y(\\vec x) $. Our goal is to find an $ \\vec x $ such that $ C $ is minimized. Hopefully this makes sense, because if we find an image $ \\vec x $ that minimizes $ C $ then that means the output of the network when given $ \\vec x $ is close to our desired output, $ \\vec y_{goal} $. So in full mathy language, our optimization problem is:\n",
        "\n",
        "$$ \\arg \\min_{\\vec x} C(\\vec x) $$\n",
        "\n",
        "that is, find the $ \\vec x $ that minimizes the cost $ C $.\n",
        "\n",
        "To actually do this we can do gradient descent on $ C $. Start with an initially random vector $ \\vec x $ and take steps (changing $ \\vec x $) gradually in the direction opposite of the gradient $ \\nabla_x C $. To actually get these derivatives we can perform backpropagation on the network. In contrast to training a network, where we perform gradient descent on the weights and biases, when we create adversarial examples we hold the weights and biases constant (because we don't want to change the network!), and change the inputs to our network."
      ]
    },
    {
      "cell_type": "markdown",
      "metadata": {
        "id": "LqXEwFVP-Ell"
      },
      "source": [
        "Helper functions to evaluate the non-linearity and it's derivative:"
      ]
    },
    {
      "cell_type": "code",
      "metadata": {
        "id": "KLYPT_vn-Elm"
      },
      "source": [
        "def sigmoid(z):\n",
        "    \"\"\"The sigmoid function.\"\"\"\n",
        "    return 1.0/(1.0+np.exp(-z))\n",
        "                                                                                                                                                                                \n",
        "def sigmoid_prime(z):\n",
        "    \"\"\"Derivative of the sigmoid function.\"\"\"\n",
        "    return sigmoid(z)*(1-sigmoid(z))"
      ],
      "execution_count": null,
      "outputs": []
    },
    {
      "cell_type": "markdown",
      "metadata": {
        "id": "ksZgBEC7-Eln"
      },
      "source": [
        "Also, a function to find the gradient derivatives of the cost function, $ \\nabla_x C $ with respect to the input $ \\vec x $, with a goal label of $ \\vec y_{goal} $. (Don't worry too much about the implementation, just know it calculates derivatives)."
      ]
    },
    {
      "cell_type": "code",
      "metadata": {
        "id": "l9w-j2fg-Eln"
      },
      "source": [
        "def input_derivative(net, x, y):\n",
        "    \"\"\" Calculate derivatives wrt the inputs\"\"\"\n",
        "    nabla_b = [np.zeros(b.shape) for b in net.biases]\n",
        "    nabla_w = [np.zeros(w.shape) for w in net.weights]\n",
        "    \n",
        "    # feedforward\n",
        "    activation = x\n",
        "    activations = [x] # list to store all the activations, layer by layer\n",
        "    zs = [] # list to store all the z vectors, layer by layer\n",
        "    for b, w in zip(net.biases, net.weights):\n",
        "        z = np.dot(w, activation)+b\n",
        "        zs.append(z)\n",
        "        activation = sigmoid(z)\n",
        "        activations.append(activation)\n",
        "        \n",
        "    # backward pass\n",
        "    delta = net.cost_derivative(activations[-1], y) * \\\n",
        "        sigmoid_prime(zs[-1])\n",
        "    nabla_b[-1] = delta\n",
        "    nabla_w[-1] = np.dot(delta, activations[-2].transpose())\n",
        "\n",
        "    for l in range(2, net.num_layers):\n",
        "        z = zs[-l]\n",
        "        sp = sigmoid_prime(z)\n",
        "        delta = np.dot(net.weights[-l+1].transpose(), delta) * sp\n",
        "        nabla_b[-l] = delta\n",
        "        nabla_w[-l] = np.dot(delta, activations[-l-1].transpose())\n",
        "        \n",
        "    # Return derivatives WRT to input\n",
        "    return net.weights[0].T.dot(delta)"
      ],
      "execution_count": null,
      "outputs": []
    },
    {
      "cell_type": "markdown",
      "metadata": {
        "id": "HUjdCl2v-Elo"
      },
      "source": [
        "The actual function that generates adversarial examples and a wrapper function:"
      ]
    },
    {
      "cell_type": "markdown",
      "metadata": {
        "id": "JnagbB_3-Elo"
      },
      "source": [
        "## (a) Non Targeted Attack"
      ]
    },
    {
      "cell_type": "code",
      "metadata": {
        "id": "RXopfFiW-Elo"
      },
      "source": [
        "def nonTargetedAdversarial(net, n, steps, eta):\n",
        "    \"\"\"\n",
        "    net : network object\n",
        "        neural network instance to use\n",
        "    n : integer\n",
        "        our goal label (just an int, the function transforms it into a one-hot vector)\n",
        "    steps : integer\n",
        "        number of steps for gradient descent\n",
        "    eta : float\n",
        "        step size for gradient descent\n",
        "    \"\"\"\n",
        "    \n",
        "    ####### Enter your code below #######\n",
        "    goal = np.zeros((10,1))\n",
        "    # Set the goal output\n",
        "    goal[n] = 1\n",
        "\n",
        "    # Create a random image to initialize gradient descent with\n",
        "    x = np.random.normal(.5, .3, (784, 1))\n",
        "    \n",
        "    # Gradient descent on the input\n",
        "    for i in range(steps):\n",
        "        # Calculate the derivative\n",
        "        d = input_derivative(net,x,goal)\n",
        "        # The GD update on x\n",
        "        x-=eta*d\n",
        "    \n",
        "    return x\n",
        "\n",
        "\n",
        "# Wrapper function \n",
        "def generate(n):\n",
        "    \"\"\"\n",
        "    n : integer\n",
        "        goal label (not a one hot vector)\n",
        "    \"\"\"\n",
        "    \n",
        "    ####### Enter your code below #######\n",
        "    \n",
        "    # Find the vector x with the above function that you just wrote.\n",
        "    img_vector = nonTargetedAdversarial(net, n, steps = 1500, eta = 0.001)\n",
        "    \n",
        "    # Pass the generated image (vector) to the neural network. Perform a forward pass, and get the prediction.\n",
        "    x = np.round(net.feedforward(img_vector), 3)\n",
        "    \n",
        "    print('Network Output: \\n' + str(x) + '\\n')\n",
        "    \n",
        "    print('Network Prediction: ' + str(np.argmax(x)) + '\\n')\n",
        "    \n",
        "    print('Adversarial Example: ')\n",
        "    \n",
        "    plt.imshow(img_vector.reshape(28,28), cmap='Greys')"
      ],
      "execution_count": null,
      "outputs": []
    },
    {
      "cell_type": "markdown",
      "metadata": {
        "id": "S4b1cLCT-Elo"
      },
      "source": [
        "Now let's generate some adversarial examples! Use the function provided to mess around with the neural network. (For some inputs gradient descent doesn't always converge; 0 and 5 seem to work pretty well though. I suspect convergence is very highly dependent on our choice of random initial $ \\vec x $. We'll see later in the notebook if we force the adversarial example to \"look like\" a handwritten digit, convergence is much more likely. In a sense we will be adding regularization to our generation process)."
      ]
    },
    {
      "cell_type": "code",
      "metadata": {
        "colab": {
          "base_uri": "https://localhost:8080/",
          "height": 525
        },
        "id": "n84ry1h8-Elp",
        "outputId": "32e99f2d-e745-4a32-c2bf-4e14a7bf7d2d"
      },
      "source": [
        "generate(2)"
      ],
      "execution_count": null,
      "outputs": [
        {
          "name": "stdout",
          "output_type": "stream",
          "text": [
            "Network Output: \n",
            "[[0.   ]\n",
            " [0.   ]\n",
            " [0.003]\n",
            " [0.004]\n",
            " [0.   ]\n",
            " [0.   ]\n",
            " [0.001]\n",
            " [0.   ]\n",
            " [0.026]\n",
            " [0.   ]]\n",
            "\n",
            "Network Prediction: 8\n",
            "\n",
            "Adversarial Example: \n"
          ]
        },
        {
          "data": {
            "image/png": "[encoded data removed]",
            "text/plain": [
              "<Figure size 432x288 with 1 Axes>"
            ]
          },
          "metadata": {
            "needs_background": "light"
          },
          "output_type": "display_data"
        }
      ]
    },
    {
      "cell_type": "markdown",
      "metadata": {
        "id": "Tq6tvCWn-Elp"
      },
      "source": [
        "## (b) Targeted Attack(s)"
      ]
    },
    {
      "cell_type": "markdown",
      "metadata": {
        "id": "g8bCqHQ1-Elp"
      },
      "source": [
        "Sweet! We've just managed to create an image that looks utterly meaningless to a human, but the neural network thinks is a '5' with very high certainty. We can actually take this a bit further. Let's generate an image that looks like one number, but the neural network is certain is another. To do this we will modify our cost function a bit. Instead of just optimizing the input image, $ \\vec x $, to get a desired output label, we'll also optimize the input to look like a certain image, $ \\vec x_{target} $, at the same time. Our new cost function will be\n",
        "\n",
        "$$ C = \\|\\vec y_{goal} - y_{hat}(\\vec x)\\|^2_2 + \\lambda \\|\\vec x - \\vec x_{target}\\|^2_2 $$\n",
        "\n",
        "The added term tells us the distance from our $ \\vec x $ and some $ \\vec x_{target} $ (which is the image we want our adversarial example to look like). Because we want to minimize $ C $, we also want to minimize the distance between our adversarial example and this image. The $ \\lambda $ is hyperparameter that we can tune; it determines which is more important: optimizing for the desired output or optimizing for an image that looks like $ \\vec x_{target} $.\n",
        "\n",
        "If you are familiar with ridge regularization, the above cost function might look suspiciously like the ridge regression cost function. In fact, we can view this generation method as giving our model a prior, centered on our target image.\n",
        "\n",
        "Here is a function that implements optimizing the modified cost function, called `sneaky_adversarial` (because it is very sneaky). Note that the only difference between this function and `adversarial` is an additional term on the gradient descent update for the regularization term:"
      ]
    },
    {
      "cell_type": "code",
      "metadata": {
        "id": "NiZbizjC-Elp"
      },
      "source": [
        "def targetedAdversarial(net, n, x_target, steps, eta, lam=.05):\n",
        "    \"\"\"\n",
        "    net : network object\n",
        "        neural network instance to use\n",
        "    n : integer\n",
        "        our goal label (just an int, the function transforms it into a one-hot vector)\n",
        "    x_target : numpy vector\n",
        "        our goal image for the adversarial example\n",
        "    steps : integer\n",
        "        number of steps for gradient descent\n",
        "    eta : float\n",
        "        step size for gradient descent\n",
        "    lam : float\n",
        "        lambda, our regularization parameter. Default is .05\n",
        "    \"\"\"\n",
        "    \n",
        "    # Set the goal output\n",
        "    goal = np.zeros((10,1))\n",
        "    goal[n] = 1\n",
        "    \n",
        "    # Create a random image to initialize gradient descent with\n",
        "    x = np.random.normal(.5, .3, (784, 1))\n",
        "\n",
        "    # Gradient descent on the input\n",
        "    for i in range(steps):\n",
        "        \n",
        "        # Calculate the derivative\n",
        "        d = input_derivative(net, x, goal)\n",
        "        \n",
        "        # The GD update on x, with an added penalty to the cost function\n",
        "        x -= eta * (d + lam * (x - x_target))\n",
        "\n",
        "    return x\n",
        "\n",
        "\n",
        "# Wrapper function\n",
        "def generate_advSample(n, m):\n",
        "    \"\"\"\n",
        "    n: int 0-9, the target number to match\n",
        "    m: index of example image to use (from the test set)\n",
        "    \"\"\"\n",
        "    \n",
        "    # Find random instance of m in test set\n",
        "    idx = np.random.randint(0,8000)\n",
        "    while test_data[idx][1] != m:\n",
        "        idx += 1\n",
        "    \n",
        "    # Hardcode the parameters for the wrapper function\n",
        "    a = targetedAdversarial(net, n, test_data[idx][0], 100, 1)\n",
        "    x = np.round(net.feedforward(a), 2)\n",
        "    \n",
        "    print('\\nWhat we want our adversarial example to look like: ')\n",
        "    plt.imshow(test_data[idx][0].reshape((28,28)), cmap='Greys')\n",
        "    plt.show()\n",
        "    \n",
        "    print('\\n')\n",
        "    \n",
        "    print('Adversarial Example: ')\n",
        "    \n",
        "    plt.imshow(a.reshape(28,28), cmap='Greys')\n",
        "    plt.show()\n",
        "    \n",
        "    print('Network Prediction: ' + str(np.argmax(x)) + '\\n')\n",
        "    \n",
        "    print('Network Output: \\n' + str(x) + '\\n')\n",
        "    \n",
        "    return a"
      ],
      "execution_count": null,
      "outputs": []
    },
    {
      "cell_type": "markdown",
      "metadata": {
        "id": "sLaOKWE--Elq"
      },
      "source": [
        "Play around with this function to make \"sneaky\" adversarial examples! (Again, some numbers converge better than others... try 0, 2, 3, 5, 6, or 8 as a target label. 1, 4, 7, and 9 still don't work as well... no idea why... We get more numbers that converge because we've added regularization term to our cost function. Perhaps changing $ \\lambda $ will get more to converge?)"
      ]
    },
    {
      "cell_type": "code",
      "metadata": {
        "colab": {
          "base_uri": "https://localhost:8080/",
          "height": 843
        },
        "id": "HOF7Mnkw-Elq",
        "outputId": "795648d2-9c6d-49e9-c2d4-d5760eec38ff"
      },
      "source": [
        "# generate_advSample(target label, target digit)\n",
        "adv_ex = generate_advSample(8, 2)"
      ],
      "execution_count": null,
      "outputs": [
        {
          "name": "stdout",
          "output_type": "stream",
          "text": [
            "\n",
            "What we want our adversarial example to look like: \n"
          ]
        },
        {
          "data": {
            "image/png": "[encoded data removed]",
            "text/plain": [
              "<Figure size 432x288 with 1 Axes>"
            ]
          },
          "metadata": {
            "needs_background": "light"
          },
          "output_type": "display_data"
        },
        {
          "name": "stdout",
          "output_type": "stream",
          "text": [
            "\n",
            "\n",
            "Adversarial Example: \n"
          ]
        },
        {
          "data": {
            "image/png": "[encoded data removed]",
            "text/plain": [
              "<Figure size 432x288 with 1 Axes>"
            ]
          },
          "metadata": {
            "needs_background": "light"
          },
          "output_type": "display_data"
        },
        {
          "name": "stdout",
          "output_type": "stream",
          "text": [
            "Network Prediction: 8\n",
            "\n",
            "Network Output: \n",
            "[[0.  ]\n",
            " [0.  ]\n",
            " [0.04]\n",
            " [0.  ]\n",
            " [0.  ]\n",
            " [0.  ]\n",
            " [0.  ]\n",
            " [0.  ]\n",
            " [0.97]\n",
            " [0.  ]]\n",
            "\n"
          ]
        }
      ]
    },
    {
      "cell_type": "markdown",
      "metadata": {
        "id": "opUejZMT-Elq"
      },
      "source": [
        "## (c) Protection against adversarial attacks"
      ]
    },
    {
      "cell_type": "markdown",
      "metadata": {
        "id": "xArYv-mD-Elq"
      },
      "source": [
        "Awesome! We’ve just created images that trick neural networks. The next question we could ask is whether or not we could protect against these kinds of attacks. If you look closely at the original images and the adversarial examples you’ll see that the adversarial examples have some sort of grey tinged background."
      ]
    },
    {
      "cell_type": "markdown",
      "metadata": {
        "id": "z2Pfbrwi-Elr"
      },
      "source": [
        "So how could we protect against these adversarial attacks? One very simple way would be to use binary thresholding. Set a pixel as completely black or completely white depending on a threshold. This should remove the \"noise\" that's always present in the adversarial images. Let's see if it works:"
      ]
    },
    {
      "cell_type": "code",
      "metadata": {
        "id": "3DS1Lqkg-Elr"
      },
      "source": [
        "def simple_defense(n, m):\n",
        "    \"\"\"\n",
        "    n: int 0-9, the target number to match\n",
        "    m: index of example image to use (from the test set)\n",
        "    \"\"\"\n",
        "    \n",
        "    # Generate an adversarial sample.\n",
        "    x = generate_advSample(n, m)\n",
        "    \n",
        "    # Perform binary thresholding on the generated sample. You can choose the threshold as 0.5.\n",
        "    for i in range(len(x)):\n",
        "        x[i][0] = 0 if x[i][0] < BINARY_THRESHOLD else 1\n",
        "      \n",
        "    print(\"With binary thresholding: \")\n",
        "    \n",
        "    # Plot a grayscale image of the binarized generated sample.\n",
        "    plt.imshow(x.reshape(28,28), cmap='Greys')\n",
        "\n",
        "    # Print the network's predictions.\n",
        "    x = np.round(net.feedforward(x),5)\n",
        "    print(\"Prediction with binary thresholding: \" + str(np.argmax(x)) + '\\n')\n",
        "    \n",
        "    # The output of the network.\n",
        "    print(\"Network output: \")\n",
        "    print( str(x) )"
      ],
      "execution_count": null,
      "outputs": []
    },
    {
      "cell_type": "code",
      "metadata": {
        "colab": {
          "base_uri": "https://localhost:8080/",
          "height": 1000
        },
        "id": "4ElTcyXD-Elr",
        "outputId": "637af8ac-23ab-47ad-8181-49d384da4361"
      },
      "source": [
        "# binary_thresholding(target digit, actual digit)\n",
        "simple_defense(2, 3)"
      ],
      "execution_count": null,
      "outputs": [
        {
          "name": "stdout",
          "output_type": "stream",
          "text": [
            "\n",
            "What we want our adversarial example to look like: \n"
          ]
        },
        {
          "data": {
            "image/png": "[encoded data removed]",
            "text/plain": [
              "<Figure size 432x288 with 1 Axes>"
            ]
          },
          "metadata": {
            "needs_background": "light"
          },
          "output_type": "display_data"
        },
        {
          "name": "stdout",
          "output_type": "stream",
          "text": [
            "\n",
            "\n",
            "Adversarial Example: \n"
          ]
        },
        {
          "data": {
            "image/png": "[encoded data removed]",
            "text/plain": [
              "<Figure size 432x288 with 1 Axes>"
            ]
          },
          "metadata": {
            "needs_background": "light"
          },
          "output_type": "display_data"
        },
        {
          "name": "stdout",
          "output_type": "stream",
          "text": [
            "Network Prediction: 2\n",
            "\n",
            "Network Output: \n",
            "[[0.  ]\n",
            " [0.  ]\n",
            " [1.  ]\n",
            " [0.  ]\n",
            " [0.  ]\n",
            " [0.  ]\n",
            " [0.01]\n",
            " [0.  ]\n",
            " [0.  ]\n",
            " [0.  ]]\n",
            "\n",
            "With binary thresholding: \n",
            "Prediction with binary thresholding: 3\n",
            "\n",
            "Network output: \n",
            "[[0.0000e+00]\n",
            " [1.0000e-05]\n",
            " [0.0000e+00]\n",
            " [9.9997e-01]\n",
            " [0.0000e+00]\n",
            " [2.4600e-03]\n",
            " [2.0000e-05]\n",
            " [0.0000e+00]\n",
            " [0.0000e+00]\n",
            " [0.0000e+00]]\n"
          ]
        },
        {
          "data": {
            "image/png": "[encoded data removed]",
            "text/plain": [
              "<Figure size 432x288 with 1 Axes>"
            ]
          },
          "metadata": {
            "needs_background": "light"
          },
          "output_type": "display_data"
        }
      ]
    },
    {
      "cell_type": "markdown",
      "metadata": {
        "id": "gAyJKQzr-Elr"
      },
      "source": [
        "Looks like it works pretty well! However, note that most adversarial attacks, especially on convolutional neural networks trained on massive full color image sets such as imagenet, can't be defended against by a simple binary threshold."
      ]
    },
    {
      "cell_type": "markdown",
      "metadata": {
        "id": "hYRhD7ds-Elr"
      },
      "source": [
        "## Adversarial Training"
      ]
    },
    {
      "cell_type": "markdown",
      "metadata": {
        "id": "296OOBLR-Elr"
      },
      "source": [
        "Looks like it works pretty well! However, note that most adversarial attacks, especially on convolutional neural networks trained on massive full color image sets such as imagenet, can't be defended against by a simple binary threshold.\n",
        "\n",
        "We could try one more thing that might be a bit more universal to protect our neural network against adversarial attacks. If we had access to the adversarial attack method (which we do in this case, because we're the ones implementing the attack) we could create a ton of adversarial examples, mix that up with our training dataset with the correct labels, and then retrain a network on this augmented dataset. The retrained network should learn to ignore the adversarial attacks. Here we implement a function to do just that."
      ]
    },
    {
      "cell_type": "code",
      "metadata": {
        "id": "P-381FPM-Els"
      },
      "source": [
        "def augment_data(n, data, steps):\n",
        "    \"\"\"\n",
        "    n : integer\n",
        "        number of adversarial examples to generate\n",
        "    data : list of tuples\n",
        "        data set to generate adversarial examples using\n",
        "    \"\"\"\n",
        "    # Our augmented training set:\n",
        "    augmented = []\n",
        "    \n",
        "    for i in range(n):\n",
        "        # Progress \"bar\"\n",
        "        if i % 500 == 0:\n",
        "            print(\"Generated digits: \" + str(i))\n",
        "            \n",
        "        # Randomly choose a digit that the example will look like\n",
        "\n",
        "        # Find random instance of rnd_actual_digit in the training set\n",
        "        rnd_actual_idx = np.random.randint(len(data))\n",
        "                \n",
        "        x_target = data[rnd_actual_idx][0]\n",
        "        y_actual = data[rnd_actual_idx][1]\n",
        "        true_digit_label = y_actual.squeeze().tolist().index(1)\n",
        "        \n",
        "        # Choose a value for the adversarial attack\n",
        "        while True:\n",
        "            rnd_fake_digit = np.random.randint(10)\n",
        "            if rnd_fake_digit != true_digit_label: break\n",
        "    \n",
        "        # Generate adversarial example\n",
        "        x_adversarial = targetedAdversarial(net, rnd_fake_digit, x_target, steps, 1)\n",
        "        \n",
        "        # Add new data       \n",
        "        augmented.append((x_adversarial, true_digit_label))\n",
        "        \n",
        "    return augmented"
      ],
      "execution_count": null,
      "outputs": []
    },
    {
      "cell_type": "code",
      "metadata": {
        "colab": {
          "base_uri": "https://localhost:8080/"
        },
        "id": "cg5pNBpQ-Els",
        "outputId": "efa1dce8-6069-4904-a03f-5958c58eb7db"
      },
      "source": [
        "# Try 10000 examples first if you don't want to wait for a long time!\n",
        "augmented = augment_data(10000, training_data, 100)"
      ],
      "execution_count": null,
      "outputs": [
        {
          "name": "stdout",
          "output_type": "stream",
          "text": [
            "Generated digits: 0\n",
            "Generated digits: 500\n",
            "Generated digits: 1000\n",
            "Generated digits: 1500\n",
            "Generated digits: 2000\n",
            "Generated digits: 2500\n",
            "Generated digits: 3000\n",
            "Generated digits: 3500\n",
            "Generated digits: 4000\n",
            "Generated digits: 4500\n",
            "Generated digits: 5000\n",
            "Generated digits: 5500\n",
            "Generated digits: 6000\n",
            "Generated digits: 6500\n",
            "Generated digits: 7000\n",
            "Generated digits: 7500\n",
            "Generated digits: 8000\n",
            "Generated digits: 8500\n",
            "Generated digits: 9000\n",
            "Generated digits: 9500\n"
          ]
        }
      ]
    },
    {
      "cell_type": "markdown",
      "metadata": {
        "id": "eUkwPlkl-Els"
      },
      "source": [
        "Now let's check to make sure our augmented dataset actually makes sense. Here we have a function that checks the $ i^{th} $ example in our augmented set."
      ]
    },
    {
      "cell_type": "code",
      "metadata": {
        "colab": {
          "base_uri": "https://localhost:8080/",
          "height": 577
        },
        "id": "RfOMd6iF-Els",
        "outputId": "26c4ac44-33d4-486f-d581-9a010d218dfd"
      },
      "source": [
        "def check_augmented(i, augmented):\n",
        "    data = copy.deepcopy(augmented)\n",
        "    random.shuffle(data)\n",
        "    # Show image\n",
        "    print('Image: \\n')\n",
        "    plt.imshow(data[i][0].reshape(28,28), cmap='Greys')\n",
        "    plt.show()\n",
        "    \n",
        "    # Show original network prediction\n",
        "    print('Original network prediction: \\n')\n",
        "    print(np.round(net.feedforward(data[i][0]), 2))\n",
        "    \n",
        "    # Show label\n",
        "    print('\\nLabel: \\n')\n",
        "    print(data[i][1])\n",
        "    \n",
        "# check i^th adversarial image\n",
        "check_augmented(239, augmented)"
      ],
      "execution_count": null,
      "outputs": [
        {
          "name": "stdout",
          "output_type": "stream",
          "text": [
            "Image: \n",
            "\n"
          ]
        },
        {
          "data": {
            "image/png": "[encoded data removed]",
            "text/plain": [
              "<Figure size 432x288 with 1 Axes>"
            ]
          },
          "metadata": {
            "needs_background": "light"
          },
          "output_type": "display_data"
        },
        {
          "name": "stdout",
          "output_type": "stream",
          "text": [
            "Original network prediction: \n",
            "\n",
            "[[0.  ]\n",
            " [0.  ]\n",
            " [0.  ]\n",
            " [0.  ]\n",
            " [0.  ]\n",
            " [0.  ]\n",
            " [0.  ]\n",
            " [0.  ]\n",
            " [0.03]\n",
            " [0.  ]]\n",
            "\n",
            "Label: \n",
            "\n",
            "8\n"
          ]
        }
      ]
    },
    {
      "cell_type": "markdown",
      "metadata": {
        "id": "CtGiUF50-Els"
      },
      "source": [
        "We can now create a new neural network and train it on our augmented dataset and the original training set, using the original test set to validate."
      ]
    },
    {
      "cell_type": "code",
      "metadata": {
        "colab": {
          "base_uri": "https://localhost:8080/",
          "height": 236
        },
        "id": "MHehsc_M-Els",
        "outputId": "ba758417-fa75-48db-d7c4-a898316f17fc"
      },
      "source": [
        "# Create a new network. Use the function provided in the Network.network to create one. For this you'll have to \n",
        "# read the description of the function there. \n",
        "net2 = Network.Network([784, 128, 10])\n",
        "\n",
        "# Train on the augmented + original training set\n",
        "combined_train_data = training_data + augmented\n",
        "random.shuffle(combined_train_data)\n",
        "net2.SGD(combined_train_data, 100, 200, 0.5)"
      ],
      "execution_count": null,
      "outputs": [
        {
          "name": "stdout",
          "output_type": "stream",
          "text": [
            "Epoch 0 complete\n",
            "Epoch 1 complete\n",
            "Epoch 2 complete\n",
            "Epoch 3 complete\n",
            "Epoch 4 complete\n",
            "Epoch 5 complete\n",
            "Epoch 6 complete\n",
            "Epoch 7 complete\n",
            "Epoch 8 complete\n",
            "Epoch 9 complete\n",
            "Epoch 10 complete\n",
            "Epoch 11 complete\n",
            "Epoch 12 complete\n",
            "Epoch 13 complete\n",
            "Epoch 14 complete\n",
            "Epoch 15 complete\n",
            "Epoch 16 complete\n",
            "Epoch 17 complete\n",
            "Epoch 18 complete\n",
            "Epoch 19 complete\n",
            "Epoch 20 complete\n",
            "Epoch 21 complete\n",
            "Epoch 22 complete\n",
            "Epoch 23 complete\n",
            "Epoch 24 complete\n",
            "Epoch 25 complete\n",
            "Epoch 26 complete\n",
            "Epoch 27 complete\n",
            "Epoch 28 complete\n",
            "Epoch 29 complete\n",
            "Epoch 30 complete\n",
            "Epoch 31 complete\n",
            "Epoch 32 complete\n",
            "Epoch 33 complete\n",
            "Epoch 34 complete\n",
            "Epoch 35 complete\n",
            "Epoch 36 complete\n",
            "Epoch 37 complete\n",
            "Epoch 38 complete\n",
            "Epoch 39 complete\n",
            "Epoch 40 complete\n",
            "Epoch 41 complete\n",
            "Epoch 42 complete\n",
            "Epoch 43 complete\n",
            "Epoch 44 complete\n",
            "Epoch 45 complete\n",
            "Epoch 46 complete\n",
            "Epoch 47 complete\n",
            "Epoch 48 complete\n",
            "Epoch 49 complete\n",
            "Epoch 50 complete\n",
            "Epoch 51 complete\n",
            "Epoch 52 complete\n",
            "Epoch 53 complete\n",
            "Epoch 54 complete\n",
            "Epoch 55 complete\n",
            "Epoch 56 complete\n",
            "Epoch 57 complete\n",
            "Epoch 58 complete\n",
            "Epoch 59 complete\n",
            "Epoch 60 complete\n",
            "Epoch 61 complete\n",
            "Epoch 62 complete\n",
            "Epoch 63 complete\n",
            "Epoch 64 complete\n",
            "Epoch 65 complete\n",
            "Epoch 66 complete\n",
            "Epoch 67 complete\n",
            "Epoch 68 complete\n",
            "Epoch 69 complete\n",
            "Epoch 70 complete\n",
            "Epoch 71 complete\n",
            "Epoch 72 complete\n",
            "Epoch 73 complete\n",
            "Epoch 74 complete\n",
            "Epoch 75 complete\n",
            "Epoch 76 complete\n",
            "Epoch 77 complete\n",
            "Epoch 78 complete\n",
            "Epoch 79 complete\n",
            "Epoch 80 complete\n",
            "Epoch 81 complete\n",
            "Epoch 82 complete\n",
            "Epoch 83 complete\n",
            "Epoch 84 complete\n",
            "Epoch 85 complete\n",
            "Epoch 86 complete\n",
            "Epoch 87 complete\n",
            "Epoch 88 complete\n",
            "Epoch 89 complete\n",
            "Epoch 90 complete\n",
            "Epoch 91 complete\n",
            "Epoch 92 complete\n",
            "Epoch 93 complete\n",
            "Epoch 94 complete\n",
            "Epoch 95 complete\n",
            "Epoch 96 complete\n",
            "Epoch 97 complete\n",
            "Epoch 98 complete\n",
            "Epoch 99 complete\n"
          ]
        }
      ]
    },
    {
      "cell_type": "code",
      "metadata": {
        "id": "BvjivzeWwpC-",
        "outputId": "277644f6-1357-4185-f0d8-50013899bed0"
      },
      "source": [
        "# Create a new network. Use the function provided in the Network.network to create one. For this you'll have to \n",
        "# read the description of the function there. \n",
        "net2 = Network.Network([784, 128, 10])\n",
        "\n",
        "# Train on the augmented + original training set\n",
        "combined_train_data = training_data + augmented\n",
        "random.shuffle(combined_train_data)\n",
        "net2.SGD(combined_train_data, 100, 200, 0.5)"
      ],
      "execution_count": null,
      "outputs": [
        {
          "name": "stdout",
          "output_type": "stream",
          "text": [
            "Epoch 0 complete\n",
            "Epoch 1 complete\n",
            "Epoch 2 complete\n",
            "Epoch 3 complete\n",
            "Epoch 4 complete\n",
            "Epoch 5 complete\n",
            "Epoch 6 complete\n",
            "Epoch 7 complete\n",
            "Epoch 8 complete\n",
            "Epoch 9 complete\n",
            "Epoch 10 complete\n",
            "Epoch 11 complete\n",
            "Epoch 12 complete\n",
            "Epoch 13 complete\n",
            "Epoch 14 complete\n",
            "Epoch 15 complete\n",
            "Epoch 16 complete\n",
            "Epoch 17 complete\n",
            "Epoch 18 complete\n",
            "Epoch 19 complete\n",
            "Epoch 20 complete\n",
            "Epoch 21 complete\n",
            "Epoch 22 complete\n",
            "Epoch 23 complete\n",
            "Epoch 24 complete\n",
            "Epoch 25 complete\n",
            "Epoch 26 complete\n",
            "Epoch 27 complete\n",
            "Epoch 28 complete\n",
            "Epoch 29 complete\n",
            "Epoch 30 complete\n",
            "Epoch 31 complete\n",
            "Epoch 32 complete\n",
            "Epoch 33 complete\n",
            "Epoch 34 complete\n",
            "Epoch 35 complete\n",
            "Epoch 36 complete\n",
            "Epoch 37 complete\n",
            "Epoch 38 complete\n",
            "Epoch 39 complete\n",
            "Epoch 40 complete\n",
            "Epoch 41 complete\n",
            "Epoch 42 complete\n",
            "Epoch 43 complete\n",
            "Epoch 44 complete\n",
            "Epoch 45 complete\n",
            "Epoch 46 complete\n",
            "Epoch 47 complete\n",
            "Epoch 48 complete\n",
            "Epoch 49 complete\n",
            "Epoch 50 complete\n",
            "Epoch 51 complete\n",
            "Epoch 52 complete\n",
            "Epoch 53 complete\n",
            "Epoch 54 complete\n",
            "Epoch 55 complete\n",
            "Epoch 56 complete\n",
            "Epoch 57 complete\n",
            "Epoch 58 complete\n",
            "Epoch 59 complete\n",
            "Epoch 60 complete\n",
            "Epoch 61 complete\n",
            "Epoch 62 complete\n",
            "Epoch 63 complete\n",
            "Epoch 64 complete\n",
            "Epoch 65 complete\n",
            "Epoch 66 complete\n",
            "Epoch 67 complete\n",
            "Epoch 68 complete\n",
            "Epoch 69 complete\n",
            "Epoch 70 complete\n",
            "Epoch 71 complete\n",
            "Epoch 72 complete\n",
            "Epoch 73 complete\n",
            "Epoch 74 complete\n",
            "Epoch 75 complete\n",
            "Epoch 76 complete\n",
            "Epoch 77 complete\n",
            "Epoch 78 complete\n",
            "Epoch 79 complete\n",
            "Epoch 80 complete\n",
            "Epoch 81 complete\n",
            "Epoch 82 complete\n",
            "Epoch 83 complete\n",
            "Epoch 84 complete\n",
            "Epoch 85 complete\n",
            "Epoch 86 complete\n",
            "Epoch 87 complete\n",
            "Epoch 88 complete\n",
            "Epoch 89 complete\n",
            "Epoch 90 complete\n",
            "Epoch 91 complete\n",
            "Epoch 92 complete\n",
            "Epoch 93 complete\n",
            "Epoch 94 complete\n",
            "Epoch 95 complete\n",
            "Epoch 96 complete\n",
            "Epoch 97 complete\n",
            "Epoch 98 complete\n",
            "Epoch 99 complete\n"
          ]
        }
      ]
    },
    {
      "cell_type": "markdown",
      "metadata": {
        "id": "NoqW2ejW-Els"
      },
      "source": [
        "With a network trained on 50000 adversarial examples in addition to 50000 original training set examples we get about 95% accuracy (it takes quite a long time as well). We can make a test set of adversarial examples by using the following function call:"
      ]
    },
    {
      "cell_type": "code",
      "metadata": {
        "colab": {
          "base_uri": "https://localhost:8080/"
        },
        "id": "K5YIjnOA-Els",
        "outputId": "69c8280c-fb93-46a4-ea60-a75223d2714c"
      },
      "source": [
        "# For some reason the training data has the format: list of tuples\n",
        "# tuple[0] is np array of image\n",
        "# tuple[1] is one hot np array of label\n",
        "# test data is also list of tuples\n",
        "# tuple[0] is np array of image\n",
        "# tuple[1] is integer of label\n",
        "# Just fixing this:\n",
        "normal_test_data = []\n",
        "\n",
        "for i in range(len(test_data)):\n",
        "    ground_truth = test_data[i][1]\n",
        "    one_hot = np.zeros(10)\n",
        "    one_hot[ground_truth] = 1\n",
        "    one_hot = np.expand_dims(one_hot, axis=1)\n",
        "    normal_test_data.append((test_data[i][0], one_hot))\n",
        "    \n",
        "\n",
        "# Using normal_test_data because of weird way data is packaged\n",
        "adversarial_test_set = augment_data(1000, normal_test_data, 100)"
      ],
      "execution_count": null,
      "outputs": [
        {
          "name": "stdout",
          "output_type": "stream",
          "text": [
            "Generated digits: 0\n",
            "Generated digits: 500\n"
          ]
        }
      ]
    },
    {
      "cell_type": "markdown",
      "metadata": {
        "id": "dy2Kyg9N-Elt"
      },
      "source": [
        "Let's checkout the accuracy of our newly trained network on adversarial examples from the new adversarial test set:"
      ]
    },
    {
      "cell_type": "code",
      "metadata": {
        "colab": {
          "base_uri": "https://localhost:8080/"
        },
        "id": "ODkO1-A2-Elt",
        "outputId": "807b4ba4-cd2d-4c69-8f25-51aba6de404a"
      },
      "source": [
        "def accuracy(net, test_data):\n",
        "    \"\"\"\n",
        "    net : network object\n",
        "    test_data: list\n",
        "        list of 2-tuples of two arrays, one image and one label (one-hot)\n",
        "    \"\"\"\n",
        "    tot = float(len(test_data))\n",
        "    correct = 0\n",
        "    for i in range(len(test_data)):\n",
        "        prediction = net.feedforward(test_data[i][0])\n",
        "        correct += (np.argmax(prediction) == np.argmax(test_data[i][1]))\n",
        "    \n",
        "    return correct / tot\n",
        "\n",
        "print('Accuracy of the new augmented model on the adversarial test set: ' + str(accuracy(net2, adversarial_test_set)))\n",
        "print('Accuracy of the new augmented model on the original test set: ' + str(accuracy(net2, normal_test_data)))\n",
        "\n",
        "print('Accuracy of the original network on the adversarial test set: ' + str(accuracy(net, adversarial_test_set)))\n",
        "print('Accuracy of the original network on the original test set: ' + str(accuracy(net, normal_test_data)))"
      ],
      "execution_count": null,
      "outputs": [
        {
          "name": "stdout",
          "output_type": "stream",
          "text": [
            "Accuracy of the new augmented model on the adversarial test set: 0.107\n",
            "Accuracy of the new augmented model on the original test set: 0.9273\n",
            "Accuracy of the original network on the adversarial test set: 0.067\n",
            "Accuracy of the original network on the original test set: 0.8749\n"
          ]
        }
      ]
    },
    {
      "cell_type": "markdown",
      "metadata": {
        "id": "aAbeOFhK-Elt"
      },
      "source": [
        "Finally, we'll be implementing a function that compares the original network to the new network on adversarial examples."
      ]
    },
    {
      "cell_type": "code",
      "metadata": {
        "id": "Eob80LqC-Elt"
      },
      "source": [
        "# You'll be implementing a function that compares the original network to the new network. The specifications of \n",
        "# what this function has to achieve has been provided in the pdf.\n",
        "\n",
        "# TODO : Implement a function.\n",
        "def compare(original_net, new_net, adv_example):\n",
        "    # Show image\n",
        "    print('Image: \\n')\n",
        "    plt.imshow(adv_example[0].reshape(28,28), cmap='Greys')\n",
        "    plt.show()\n",
        "    \n",
        "    # Show original network prediction\n",
        "    print('Original network output:')\n",
        "    print(np.round(original_net.feedforward(adv_example[0]), 2))\n",
        "    print('\\n')\n",
        "    \n",
        "    print('Original network prediction:')\n",
        "    print(np.argmax(original_net.feedforward(adv_example[0])))\n",
        "    print('\\n')\n",
        "    \n",
        "    # Show new network prediction\n",
        "    print('New network output:')\n",
        "    print(np.round(new_net.feedforward(adv_example[0]), 2))\n",
        "    print('\\n')\n",
        "    \n",
        "    print('New network prediction:')\n",
        "    print(np.argmax(new_net.feedforward(adv_example[0])))\n",
        "    print('\\n')\n",
        "    \n",
        "    # Show label\n",
        "    print('\\nActual Label:')\n",
        "    print(adv_example[1])\n",
        "    print('\\n')"
      ],
      "execution_count": null,
      "outputs": []
    },
    {
      "cell_type": "code",
      "metadata": {
        "colab": {
          "base_uri": "https://localhost:8080/",
          "height": 977
        },
        "id": "grE2bBKG-Elt",
        "outputId": "8e70e4f3-f8d4-4e44-e862-92ae1209cefb"
      },
      "source": [
        "compare(net, net2, augmented[150])"
      ],
      "execution_count": null,
      "outputs": [
        {
          "name": "stdout",
          "output_type": "stream",
          "text": [
            "Image: \n",
            "\n"
          ]
        },
        {
          "data": {
            "image/png": "[encoded data removed]",
            "text/plain": [
              "<Figure size 432x288 with 1 Axes>"
            ]
          },
          "metadata": {
            "needs_background": "light"
          },
          "output_type": "display_data"
        },
        {
          "name": "stdout",
          "output_type": "stream",
          "text": [
            "Original network output:\n",
            "[[0.  ]\n",
            " [0.  ]\n",
            " [0.  ]\n",
            " [0.  ]\n",
            " [0.  ]\n",
            " [0.95]\n",
            " [0.06]\n",
            " [0.  ]\n",
            " [0.  ]\n",
            " [0.  ]]\n",
            "\n",
            "\n",
            "Original network prediction:\n",
            "5\n",
            "\n",
            "\n",
            "New network output:\n",
            "[[1.]\n",
            " [1.]\n",
            " [1.]\n",
            " [1.]\n",
            " [1.]\n",
            " [1.]\n",
            " [1.]\n",
            " [1.]\n",
            " [1.]\n",
            " [1.]]\n",
            "\n",
            "\n",
            "New network prediction:\n",
            "6\n",
            "\n",
            "\n",
            "\n",
            "Actual Label:\n",
            "6\n",
            "\n",
            "\n"
          ]
        }
      ]
    },
    {
      "cell_type": "code",
      "metadata": {
        "colab": {
          "base_uri": "https://localhost:8080/",
          "height": 977
        },
        "id": "Q9N66rIm-Elt",
        "outputId": "d109a324-6ae4-45e8-953d-65f7b5d8c1ce"
      },
      "source": [
        "compare(net, net2, augmented[850])"
      ],
      "execution_count": null,
      "outputs": [
        {
          "name": "stdout",
          "output_type": "stream",
          "text": [
            "Image: \n",
            "\n"
          ]
        },
        {
          "data": {
            "image/png": "[encoded data removed]",
            "text/plain": [
              "<Figure size 432x288 with 1 Axes>"
            ]
          },
          "metadata": {
            "needs_background": "light"
          },
          "output_type": "display_data"
        },
        {
          "name": "stdout",
          "output_type": "stream",
          "text": [
            "Original network output:\n",
            "[[0.]\n",
            " [0.]\n",
            " [0.]\n",
            " [0.]\n",
            " [0.]\n",
            " [0.]\n",
            " [0.]\n",
            " [0.]\n",
            " [1.]\n",
            " [0.]]\n",
            "\n",
            "\n",
            "Original network prediction:\n",
            "8\n",
            "\n",
            "\n",
            "New network output:\n",
            "[[1.]\n",
            " [1.]\n",
            " [1.]\n",
            " [1.]\n",
            " [1.]\n",
            " [1.]\n",
            " [1.]\n",
            " [1.]\n",
            " [1.]\n",
            " [1.]]\n",
            "\n",
            "\n",
            "New network prediction:\n",
            "4\n",
            "\n",
            "\n",
            "\n",
            "Actual Label:\n",
            "4\n",
            "\n",
            "\n"
          ]
        }
      ]
    },
    {
      "cell_type": "markdown",
      "metadata": {
        "id": "mqR7MuHK0cMv"
      },
      "source": [
        "# Problem 3 (Extra Credit [25 pts])"
      ]
    },
    {
      "cell_type": "markdown",
      "metadata": {
        "id": "b1QAi8CY1mN7"
      },
      "source": [
        "**Question:** Evaluate three more defense techniques against adversarial examples using your own network.  You need to show their robustness using three utility metrics of your choice defined for defense evaluation, such as Classification Accuracy Variance (CAV), Classification Rectify/Sacrifice Ratio (CRR/CSR), Classification Confidence Variance (CCV), and Classification Output Stability (COS).\n",
        "\n",
        "\n"
      ]
    },
    {
      "cell_type": "markdown",
      "metadata": {
        "id": "O4cpZ1AL2ZrJ"
      },
      "source": [
        "Three Defense techniques that I will be using to implement this will be:\n",
        "\n",
        "*   Pixel Defend\n",
        "*   Spatial Smoothing\n",
        "*   InverseGAN\n",
        "\n",
        "I am using IBM's ART toolkit to implement these techniques.\n",
        "\n",
        "\n",
        "\n",
        "\n",
        "\n"
      ]
    },
    {
      "cell_type": "markdown",
      "metadata": {
        "id": "0579j8PH-sEv"
      },
      "source": [
        "## Technique 1: Feature Squeezing\n",
        "\n",
        "Reduces the sensibility of the features of a sample.\n",
        "\n",
        "Reference: https://adversarial-robustness-toolbox.readthedocs.io/en/latest/modules/defences/preprocessor.html#feature-squeezing"
      ]
    },
    {
      "cell_type": "markdown",
      "metadata": {
        "id": "Y90_gNnP-2uT"
      },
      "source": [
        "## Technique 2: Spatial Smoothing\n",
        "\n",
        "Spatial Smoothing is basically a method to smooth local variance by substituing the color of each pixel with the median value of its adjacent pixels. \n",
        "\n",
        "Reference: https://adversarial-robustness-toolbox.readthedocs.io/en/latest/modules/defences/preprocessor.html#spatial-smoothing"
      ]
    },
    {
      "cell_type": "markdown",
      "metadata": {
        "id": "zMGjJCm6EsmY"
      },
      "source": [
        "## Technique 3: Total Variance Minimization\n",
        "\n",
        "Reference: https://adversarial-robustness-toolbox.readthedocs.io/en/latest/modules/defences/preprocessor.html#total-variance-minimization"
      ]
    },
    {
      "cell_type": "markdown",
      "metadata": {
        "id": "x6RIzhYqF2yL"
      },
      "source": [
        "## STEP 1: Generating Artificial Neural Network (Re-Using the code from Assignment 3 - Problem 5) to evaluate the above mentioned defense techniques against adversarial examples."
      ]
    },
    {
      "cell_type": "code",
      "metadata": {
        "colab": {
          "base_uri": "https://localhost:8080/"
        },
        "id": "_0uV9luMGWWP",
        "outputId": "2144a9ce-f605-40e3-ef11-53437e056ff4"
      },
      "source": [
        "!pip install adversarial-robustness-toolbox"
      ],
      "execution_count": null,
      "outputs": [
        {
          "output_type": "stream",
          "name": "stdout",
          "text": [
            "Collecting adversarial-robustness-toolbox\n",
            "  Downloading adversarial_robustness_toolbox-1.8.1-py3-none-any.whl (1.1 MB)\n",
            "\u001b[?25l\r\u001b[K     |▎                               | 10 kB 14.8 MB/s eta 0:00:01\r\u001b[K     |▋                               | 20 kB 9.5 MB/s eta 0:00:01\r\u001b[K     |█                               | 30 kB 8.7 MB/s eta 0:00:01\r\u001b[K     |█▏                              | 40 kB 8.0 MB/s eta 0:00:01\r\u001b[K     |█▌                              | 51 kB 5.2 MB/s eta 0:00:01\r\u001b[K     |█▉                              | 61 kB 5.3 MB/s eta 0:00:01\r\u001b[K     |██                              | 71 kB 4.2 MB/s eta 0:00:01\r\u001b[K     |██▍                             | 81 kB 4.7 MB/s eta 0:00:01\r\u001b[K     |██▊                             | 92 kB 5.2 MB/s eta 0:00:01\r\u001b[K     |███                             | 102 kB 5.1 MB/s eta 0:00:01\r\u001b[K     |███▎                            | 112 kB 5.1 MB/s eta 0:00:01\r\u001b[K     |███▋                            | 122 kB 5.1 MB/s eta 0:00:01\r\u001b[K     |███▉                            | 133 kB 5.1 MB/s eta 0:00:01\r\u001b[K     |████▏                           | 143 kB 5.1 MB/s eta 0:00:01\r\u001b[K     |████▌                           | 153 kB 5.1 MB/s eta 0:00:01\r\u001b[K     |████▊                           | 163 kB 5.1 MB/s eta 0:00:01\r\u001b[K     |█████                           | 174 kB 5.1 MB/s eta 0:00:01\r\u001b[K     |█████▍                          | 184 kB 5.1 MB/s eta 0:00:01\r\u001b[K     |█████▋                          | 194 kB 5.1 MB/s eta 0:00:01\r\u001b[K     |██████                          | 204 kB 5.1 MB/s eta 0:00:01\r\u001b[K     |██████▎                         | 215 kB 5.1 MB/s eta 0:00:01\r\u001b[K     |██████▌                         | 225 kB 5.1 MB/s eta 0:00:01\r\u001b[K     |██████▉                         | 235 kB 5.1 MB/s eta 0:00:01\r\u001b[K     |███████▏                        | 245 kB 5.1 MB/s eta 0:00:01\r\u001b[K     |███████▍                        | 256 kB 5.1 MB/s eta 0:00:01\r\u001b[K     |███████▊                        | 266 kB 5.1 MB/s eta 0:00:01\r\u001b[K     |████████                        | 276 kB 5.1 MB/s eta 0:00:01\r\u001b[K     |████████▎                       | 286 kB 5.1 MB/s eta 0:00:01\r\u001b[K     |████████▋                       | 296 kB 5.1 MB/s eta 0:00:01\r\u001b[K     |█████████                       | 307 kB 5.1 MB/s eta 0:00:01\r\u001b[K     |█████████▏                      | 317 kB 5.1 MB/s eta 0:00:01\r\u001b[K     |█████████▌                      | 327 kB 5.1 MB/s eta 0:00:01\r\u001b[K     |█████████▉                      | 337 kB 5.1 MB/s eta 0:00:01\r\u001b[K     |██████████                      | 348 kB 5.1 MB/s eta 0:00:01\r\u001b[K     |██████████▍                     | 358 kB 5.1 MB/s eta 0:00:01\r\u001b[K     |██████████▊                     | 368 kB 5.1 MB/s eta 0:00:01\r\u001b[K     |███████████                     | 378 kB 5.1 MB/s eta 0:00:01\r\u001b[K     |███████████▎                    | 389 kB 5.1 MB/s eta 0:00:01\r\u001b[K     |███████████▋                    | 399 kB 5.1 MB/s eta 0:00:01\r\u001b[K     |███████████▉                    | 409 kB 5.1 MB/s eta 0:00:01\r\u001b[K     |████████████▏                   | 419 kB 5.1 MB/s eta 0:00:01\r\u001b[K     |████████████▌                   | 430 kB 5.1 MB/s eta 0:00:01\r\u001b[K     |████████████▊                   | 440 kB 5.1 MB/s eta 0:00:01\r\u001b[K     |█████████████                   | 450 kB 5.1 MB/s eta 0:00:01\r\u001b[K     |█████████████▍                  | 460 kB 5.1 MB/s eta 0:00:01\r\u001b[K     |█████████████▋                  | 471 kB 5.1 MB/s eta 0:00:01\r\u001b[K     |██████████████                  | 481 kB 5.1 MB/s eta 0:00:01\r\u001b[K     |██████████████▎                 | 491 kB 5.1 MB/s eta 0:00:01\r\u001b[K     |██████████████▌                 | 501 kB 5.1 MB/s eta 0:00:01\r\u001b[K     |██████████████▉                 | 512 kB 5.1 MB/s eta 0:00:01\r\u001b[K     |███████████████▏                | 522 kB 5.1 MB/s eta 0:00:01\r\u001b[K     |███████████████▍                | 532 kB 5.1 MB/s eta 0:00:01\r\u001b[K     |███████████████▊                | 542 kB 5.1 MB/s eta 0:00:01\r\u001b[K     |████████████████                | 552 kB 5.1 MB/s eta 0:00:01\r\u001b[K     |████████████████▎               | 563 kB 5.1 MB/s eta 0:00:01\r\u001b[K     |████████████████▋               | 573 kB 5.1 MB/s eta 0:00:01\r\u001b[K     |█████████████████               | 583 kB 5.1 MB/s eta 0:00:01\r\u001b[K     |█████████████████▏              | 593 kB 5.1 MB/s eta 0:00:01\r\u001b[K     |█████████████████▌              | 604 kB 5.1 MB/s eta 0:00:01\r\u001b[K     |█████████████████▉              | 614 kB 5.1 MB/s eta 0:00:01\r\u001b[K     |██████████████████              | 624 kB 5.1 MB/s eta 0:00:01\r\u001b[K     |██████████████████▍             | 634 kB 5.1 MB/s eta 0:00:01\r\u001b[K     |██████████████████▊             | 645 kB 5.1 MB/s eta 0:00:01\r\u001b[K     |███████████████████             | 655 kB 5.1 MB/s eta 0:00:01\r\u001b[K     |███████████████████▎            | 665 kB 5.1 MB/s eta 0:00:01\r\u001b[K     |███████████████████▋            | 675 kB 5.1 MB/s eta 0:00:01\r\u001b[K     |███████████████████▉            | 686 kB 5.1 MB/s eta 0:00:01\r\u001b[K     |████████████████████▏           | 696 kB 5.1 MB/s eta 0:00:01\r\u001b[K     |████████████████████▌           | 706 kB 5.1 MB/s eta 0:00:01\r\u001b[K     |████████████████████▊           | 716 kB 5.1 MB/s eta 0:00:01\r\u001b[K     |█████████████████████           | 727 kB 5.1 MB/s eta 0:00:01\r\u001b[K     |█████████████████████▍          | 737 kB 5.1 MB/s eta 0:00:01\r\u001b[K     |█████████████████████▋          | 747 kB 5.1 MB/s eta 0:00:01\r\u001b[K     |██████████████████████          | 757 kB 5.1 MB/s eta 0:00:01\r\u001b[K     |██████████████████████▎         | 768 kB 5.1 MB/s eta 0:00:01\r\u001b[K     |██████████████████████▌         | 778 kB 5.1 MB/s eta 0:00:01\r\u001b[K     |██████████████████████▉         | 788 kB 5.1 MB/s eta 0:00:01\r\u001b[K     |███████████████████████▏        | 798 kB 5.1 MB/s eta 0:00:01\r\u001b[K     |███████████████████████▍        | 808 kB 5.1 MB/s eta 0:00:01\r\u001b[K     |███████████████████████▊        | 819 kB 5.1 MB/s eta 0:00:01\r\u001b[K     |████████████████████████        | 829 kB 5.1 MB/s eta 0:00:01\r\u001b[K     |████████████████████████▎       | 839 kB 5.1 MB/s eta 0:00:01\r\u001b[K     |████████████████████████▋       | 849 kB 5.1 MB/s eta 0:00:01\r\u001b[K     |█████████████████████████       | 860 kB 5.1 MB/s eta 0:00:01\r\u001b[K     |█████████████████████████▏      | 870 kB 5.1 MB/s eta 0:00:01\r\u001b[K     |█████████████████████████▌      | 880 kB 5.1 MB/s eta 0:00:01\r\u001b[K     |█████████████████████████▉      | 890 kB 5.1 MB/s eta 0:00:01\r\u001b[K     |██████████████████████████      | 901 kB 5.1 MB/s eta 0:00:01\r\u001b[K     |██████████████████████████▍     | 911 kB 5.1 MB/s eta 0:00:01\r\u001b[K     |██████████████████████████▊     | 921 kB 5.1 MB/s eta 0:00:01\r\u001b[K     |███████████████████████████     | 931 kB 5.1 MB/s eta 0:00:01\r\u001b[K     |███████████████████████████▎    | 942 kB 5.1 MB/s eta 0:00:01\r\u001b[K     |███████████████████████████▋    | 952 kB 5.1 MB/s eta 0:00:01\r\u001b[K     |████████████████████████████    | 962 kB 5.1 MB/s eta 0:00:01\r\u001b[K     |████████████████████████████▏   | 972 kB 5.1 MB/s eta 0:00:01\r\u001b[K     |████████████████████████████▌   | 983 kB 5.1 MB/s eta 0:00:01\r\u001b[K     |████████████████████████████▉   | 993 kB 5.1 MB/s eta 0:00:01\r\u001b[K     |█████████████████████████████   | 1.0 MB 5.1 MB/s eta 0:00:01\r\u001b[K     |█████████████████████████████▍  | 1.0 MB 5.1 MB/s eta 0:00:01\r\u001b[K     |█████████████████████████████▊  | 1.0 MB 5.1 MB/s eta 0:00:01\r\u001b[K     |██████████████████████████████  | 1.0 MB 5.1 MB/s eta 0:00:01\r\u001b[K     |██████████████████████████████▎ | 1.0 MB 5.1 MB/s eta 0:00:01\r\u001b[K     |██████████████████████████████▋ | 1.1 MB 5.1 MB/s eta 0:00:01\r\u001b[K     |██████████████████████████████▉ | 1.1 MB 5.1 MB/s eta 0:00:01\r\u001b[K     |███████████████████████████████▏| 1.1 MB 5.1 MB/s eta 0:00:01\r\u001b[K     |███████████████████████████████▌| 1.1 MB 5.1 MB/s eta 0:00:01\r\u001b[K     |███████████████████████████████▊| 1.1 MB 5.1 MB/s eta 0:00:01\r\u001b[K     |████████████████████████████████| 1.1 MB 5.1 MB/s \n",
            "\u001b[?25hRequirement already satisfied: scikit-learn<1.1.0,>=0.22.2 in /usr/local/lib/python3.7/dist-packages (from adversarial-robustness-toolbox) (1.0.1)\n",
            "Requirement already satisfied: numpy>=1.18.0 in /usr/local/lib/python3.7/dist-packages (from adversarial-robustness-toolbox) (1.19.5)\n",
            "Requirement already satisfied: setuptools in /usr/local/lib/python3.7/dist-packages (from adversarial-robustness-toolbox) (57.4.0)\n",
            "Requirement already satisfied: scipy>=1.4.1 in /usr/local/lib/python3.7/dist-packages (from adversarial-robustness-toolbox) (1.4.1)\n",
            "Collecting numba>=0.53.1\n",
            "  Downloading numba-0.54.1-cp37-cp37m-manylinux2014_x86_64.manylinux_2_17_x86_64.whl (3.3 MB)\n",
            "\u001b[K     |████████████████████████████████| 3.3 MB 16.1 MB/s \n",
            "\u001b[?25hRequirement already satisfied: six in /usr/local/lib/python3.7/dist-packages (from adversarial-robustness-toolbox) (1.15.0)\n",
            "Requirement already satisfied: tqdm in /usr/local/lib/python3.7/dist-packages (from adversarial-robustness-toolbox) (4.62.3)\n",
            "Collecting llvmlite<0.38,>=0.37.0rc1\n",
            "  Downloading llvmlite-0.37.0-cp37-cp37m-manylinux2014_x86_64.whl (26.3 MB)\n",
            "\u001b[K     |████████████████████████████████| 26.3 MB 46.8 MB/s \n",
            "\u001b[?25hRequirement already satisfied: threadpoolctl>=2.0.0 in /usr/local/lib/python3.7/dist-packages (from scikit-learn<1.1.0,>=0.22.2->adversarial-robustness-toolbox) (3.0.0)\n",
            "Requirement already satisfied: joblib>=0.11 in /usr/local/lib/python3.7/dist-packages (from scikit-learn<1.1.0,>=0.22.2->adversarial-robustness-toolbox) (1.1.0)\n",
            "Installing collected packages: llvmlite, numba, adversarial-robustness-toolbox\n",
            "  Attempting uninstall: llvmlite\n",
            "    Found existing installation: llvmlite 0.34.0\n",
            "    Uninstalling llvmlite-0.34.0:\n",
            "      Successfully uninstalled llvmlite-0.34.0\n",
            "  Attempting uninstall: numba\n",
            "    Found existing installation: numba 0.51.2\n",
            "    Uninstalling numba-0.51.2:\n",
            "      Successfully uninstalled numba-0.51.2\n",
            "Successfully installed adversarial-robustness-toolbox-1.8.1 llvmlite-0.37.0 numba-0.54.1\n"
          ]
        }
      ]
    },
    {
      "cell_type": "code",
      "metadata": {
        "id": "pCPVdjAcGM0p"
      },
      "source": [
        "# Imports\n",
        "import copy\n",
        "import keras\n",
        "import random\n",
        "import numpy as np\n",
        "import matplotlib.pyplot as plt\n",
        "\n",
        "import tensorflow as tf\n",
        "tf.compat.v1.disable_eager_execution()\n",
        "from tensorflow.keras.optimizers import RMSprop\n",
        "\n",
        "from keras.datasets import mnist\n",
        "from keras.models import Sequential\n",
        "from keras.layers import Dense, Dropout, Flatten\n",
        "from keras.layers import Conv2D, MaxPooling2D\n",
        "from keras.losses import categorical_crossentropy\n",
        "from keras.optimizers import adam_v2\n",
        "from keras import backend as K\n",
        "from sklearn.preprocessing import MinMaxScaler\n",
        "\n",
        "from art.attacks.evasion import FastGradientMethod\n",
        "from art.estimators.classification import KerasClassifier\n",
        "from art.estimators.classification.classifier import ClassifierMixin\n",
        "\n",
        "# Import the Defense techniques' APIs\n",
        "from art.defences.preprocessor import (\n",
        "    FeatureSqueezing,\n",
        "    SpatialSmoothing,\n",
        "    TotalVarMin,\n",
        ")\n",
        "from art.defences.postprocessor import GaussianNoise\n",
        "\n",
        "from scipy.spatial import distance\n",
        "\n",
        "# Set the random seeds. DO NOT CHANGE THIS!\n",
        "seedVal = 41\n",
        "random.seed(seedVal)\n",
        "np.random.seed(seedVal)\n",
        "\n",
        "# Defining some constants\n",
        "TEST_SIZE = 1000\n",
        "NUM_CLASSES = 10\n",
        "BATCH_SIZE = 64"
      ],
      "execution_count": null,
      "outputs": []
    },
    {
      "cell_type": "code",
      "metadata": {
        "id": "SbI1XTUfHdGu"
      },
      "source": [
        "# Load the MNIST dataset\n",
        "(x_train, y_train), (x_test, y_test) = mnist.load_data()\n",
        "\n",
        "# Normalization\n",
        "x_train = keras.utils.all_utils.normalize(x_train, axis=1)\n",
        "x_test = keras.utils.all_utils.normalize(x_test, axis=1)\n",
        "\n",
        "# convert class vectors to binary class matrices\n",
        "y_train = keras.utils.all_utils.to_categorical(y_train, NUM_CLASSES)\n",
        "y_test = keras.utils.all_utils.to_categorical(y_test, NUM_CLASSES)\n",
        "\n",
        "K.set_image_data_format('channels_first')\n",
        "x_train = x_train.reshape(x_train.shape[0], 1, 28, 28)\n",
        "x_test = x_test.reshape(x_test.shape[0], 1, 28, 28)"
      ],
      "execution_count": null,
      "outputs": []
    },
    {
      "cell_type": "code",
      "metadata": {
        "id": "RBHbwEsgHeW3"
      },
      "source": [
        "# Train and Test sets for ANN\n",
        "x_train_ann = x_train.reshape(60000, 784)\n",
        "x_test_ann = x_test.reshape(10000, 784)\n",
        "\n",
        "# Define the ANN network architecture.\n",
        "ann_based_model = Sequential()\n",
        "\n",
        "# Define the intermediate layers.\n",
        "ann_based_model.add(Dense(256, activation=\"sigmoid\", input_shape=x_train_ann.shape[1:]))\n",
        "ann_based_model.add(Dropout(0.2))\n",
        "ann_based_model.add(Dense(NUM_CLASSES, activation='softmax'))"
      ],
      "execution_count": null,
      "outputs": []
    },
    {
      "cell_type": "code",
      "metadata": {
        "id": "dhY0bOZVdsMS"
      },
      "source": [
        "# Compile the ANN model. \n",
        "ann_based_model.compile(loss=categorical_crossentropy, optimizer=adam_v2.Adam(learning_rate=0.01), metrics=[\"accuracy\"])"
      ],
      "execution_count": null,
      "outputs": []
    },
    {
      "cell_type": "code",
      "metadata": {
        "colab": {
          "base_uri": "https://localhost:8080/"
        },
        "id": "5OnvPOsFduVF",
        "outputId": "1b519622-f138-4e12-c037-9eaa16b956d7"
      },
      "source": [
        "ann_based_classifier = KerasClassifier(model=ann_based_model, clip_values=(0,1))\n",
        "ann_based_classifier.fit(x_train_ann, y_train, nb_epochs=10, batch_size=BATCH_SIZE)\n",
        "\n",
        "# Get the predictions on the test set.\n",
        "predictions = ann_based_classifier.predict(x_test_ann)\n",
        "\n",
        "# Compute the accuracy on the test set.\n",
        "ann_score = np.sum(np.argmax(predictions, axis=1) == np.argmax(y_test, axis=1)) / y_test.shape[0]\n",
        "\n",
        "print('Test accuracy:', ann_score)"
      ],
      "execution_count": null,
      "outputs": [
        {
          "output_type": "stream",
          "name": "stdout",
          "text": [
            "Train on 60000 samples\n",
            "Epoch 1/10\n",
            "60000/60000 [==============================] - 4s 62us/sample - loss: 0.2845 - accuracy: 0.9143\n",
            "Epoch 2/10\n",
            "60000/60000 [==============================] - 4s 60us/sample - loss: 0.1262 - accuracy: 0.9608\n",
            "Epoch 3/10\n",
            "60000/60000 [==============================] - 3s 58us/sample - loss: 0.0896 - accuracy: 0.9728\n",
            "Epoch 4/10\n",
            "60000/60000 [==============================] - 3s 58us/sample - loss: 0.0698 - accuracy: 0.9783\n",
            "Epoch 5/10\n",
            "60000/60000 [==============================] - 3s 57us/sample - loss: 0.0600 - accuracy: 0.9805\n",
            "Epoch 6/10\n",
            "60000/60000 [==============================] - 3s 58us/sample - loss: 0.0514 - accuracy: 0.9830\n",
            "Epoch 7/10\n",
            "60000/60000 [==============================] - 3s 58us/sample - loss: 0.0488 - accuracy: 0.9841\n",
            "Epoch 8/10\n",
            "60000/60000 [==============================] - 4s 59us/sample - loss: 0.0413 - accuracy: 0.9865\n",
            "Epoch 9/10\n",
            "60000/60000 [==============================] - 3s 57us/sample - loss: 0.0365 - accuracy: 0.9878\n",
            "Epoch 10/10\n",
            "60000/60000 [==============================] - 3s 58us/sample - loss: 0.0357 - accuracy: 0.9879\n",
            "Test accuracy: 0.9753\n"
          ]
        },
        {
          "output_type": "stream",
          "name": "stderr",
          "text": [
            "/usr/local/lib/python3.7/dist-packages/keras/engine/training_v1.py:2079: UserWarning: `Model.state_updates` will be removed in a future version. This property should not be used in TensorFlow 2.0, as `updates` are applied automatically.\n",
            "  updates=self.state_updates,\n"
          ]
        }
      ]
    },
    {
      "cell_type": "markdown",
      "metadata": {
        "id": "tmlndwJ2d0Nw"
      },
      "source": [
        "## Step 2: Generate Adversarial Examples\n",
        "\n",
        "Using Fast Gradient Sign Method (FGSM) to generate adversarial examples"
      ]
    },
    {
      "cell_type": "code",
      "metadata": {
        "id": "h5KeIlmCHiTc"
      },
      "source": [
        "def generate_adv_examples_FGSM(classifier, x):\n",
        "    # This attack is known as the \"Fast Gradient Sign Method\".\n",
        "    attack = FastGradientMethod(classifier, eps=0.1)\n",
        "    return attack.generate(x)"
      ],
      "execution_count": null,
      "outputs": []
    },
    {
      "cell_type": "code",
      "metadata": {
        "id": "8NGPryWgHlPG"
      },
      "source": [
        "ann_adv_examples_FGSM = generate_adv_examples_FGSM(ann_based_classifier, x_test_ann[0:1000])"
      ],
      "execution_count": null,
      "outputs": []
    },
    {
      "cell_type": "markdown",
      "metadata": {
        "id": "ytPKwE98hA6y"
      },
      "source": [
        "## Step 3: Apply Defense Techniques on Adversarial Examples"
      ]
    },
    {
      "cell_type": "code",
      "metadata": {
        "id": "Z-S1a-jyjTqO"
      },
      "source": [
        "class applyDefenseTechniques(object):\n",
        "\n",
        "    def __init__(self, classifier):\n",
        "        self.defense_technique = None\n",
        "        self.adversarial_data = None\n",
        "        self.classifier = classifier\n",
        "\n",
        "    def apply_defense(self, defense_technique, adverserial_data):\n",
        "        self.defense_technique = defense_technique\n",
        "        self.adversarial_data = adverserial_data\n",
        "        if self.defense_technique == \"FeatureSqueezing\":\n",
        "            return self.apply_feature_squeezing()\n",
        "        elif self.defense_technique == \"SpatialSmoothing\":\n",
        "            return self.apply_spatial_smoothing()\n",
        "        elif self.defense_technique == \"TotalVarMin\":\n",
        "            return self.apply_total_var_min()\n",
        "        elif self.defense_technique == \"GaussianNoise\":\n",
        "            return self.apply_gaussian_noise()\n",
        "        else:\n",
        "            print(\"The given defense technique is not supported\")\n",
        "            return \n",
        "        \n",
        "    def apply_feature_squeezing(self):\n",
        "        preprocessor = FeatureSqueezing(clip_values=(0, 1), bit_depth=2)\n",
        "        squeezed_data, _ = preprocessor(self.adversarial_data)\n",
        "        self.old_predictions = self.classifier.predict(self.adversarial_data)\n",
        "        self.new_predictions = self.classifier.predict(squeezed_data)\n",
        "        self.output_metrices()\n",
        "\n",
        "    def apply_spatial_smoothing(self):\n",
        "        preprocessor = SpatialSmoothing(window_size=3)\n",
        "        data = copy.deepcopy(self.adversarial_data)\n",
        "        adv_data = data.reshape(data.shape[0], 1, 28, 28)  \n",
        "        smooth_data, _ = preprocessor(adv_data)\n",
        "        self.old_predictions = self.classifier.predict(self.adversarial_data)\n",
        "        self.new_predictions = self.classifier.predict(smooth_data.reshape(1000, 784))\n",
        "        self.output_metrices()\n",
        "\n",
        "    def apply_total_var_min(self):\n",
        "        preprocessor = TotalVarMin(prob=0.5)\n",
        "        data = copy.deepcopy(self.adversarial_data)\n",
        "        adv_data = data.reshape(data.shape[0], 1, 28, 28)\n",
        "        processed_adv_data, _ = preprocessor(adv_data)\n",
        "        self.old_predictions = self.classifier.predict(self.adversarial_data)\n",
        "        self.new_predictions = self.classifier.predict(processed_adv_data.reshape(1000, 784))\n",
        "        self.output_metrices()\n",
        "\n",
        "    \n",
        "    def apply_gaussian_noise(self):\n",
        "        predicted = self.classifier.predict(self.adversarial_data)\n",
        "        self.old_predictions = copy.deepcopy(predicted)\n",
        "        postprocessor = GaussianNoise(scale=0.5)\n",
        "        post_predicted = postprocessor(preds=predicted.reshape(predicted.shape[0], 1, 10, 1))\n",
        "        self.old_predictions = predicted\n",
        "        self.new_predictions = post_predicted\n",
        "        self.output_metrices()\n",
        "\n",
        "\n",
        "    def output_metrices(self):\n",
        "    \n",
        "        print(\"----Defense Technique Used: {}----\".format(self.defense_technique))\n",
        "\n",
        "        accuracy_on_adv_data = np.sum(np.argmax(self.old_predictions, axis=1) == np.argmax(y_test[0:TEST_SIZE], axis=1)) / TEST_SIZE\n",
        "        accuracy_on_processed_data = np.sum(np.argmax(self.new_predictions, axis=1) == np.argmax(y_test[0:TEST_SIZE], axis=1)) / TEST_SIZE\n",
        "        if accuracy_on_processed_data > 1: accuracy_on_processed_data /= self.adversarial_data.shape[0]\n",
        "\n",
        "        print(\"Accuracy on Adversarial Data BEFORE Defense:\", accuracy_on_adv_data)  \n",
        "        print(\"Accuracy on Adversarial Data AFTER Defense:\", accuracy_on_processed_data)\n",
        "\n",
        "        print(\"Printing Utility Metrices...\\n\")\n",
        "\n",
        "        cav_metric = accuracy_on_processed_data - accuracy_on_adv_data\n",
        "        print(\"Classification Accuracy Variance: {}\".format(cav_metric))\n",
        "\n",
        "        crr_mteric = np.sum(np.logical_and((np.argmax(self.old_predictions, axis=1) != np.argmax(y_test[0:TEST_SIZE], axis=1)),(np.argmax(self.new_predictions, axis=1) == np.argmax(y_test[0:TEST_SIZE], axis=1)))) / TEST_SIZE\n",
        "        print(\"Classification Rectify Ratio: {}\".format(crr_mteric))\n",
        "\n",
        "        total_val = np.sum(np.logical_and((np.argmax(self.old_predictions, axis=1) == np.argmax(y_test[0:TEST_SIZE], axis=1)),(np.argmax(self.new_predictions, axis=1) == np.argmax(y_test[0:TEST_SIZE], axis=1))))\n",
        "        ccv_metric = 0\n",
        "        for i in range(total_val): ccv_metric += np.abs(self.old_predictions[i][np.argmax(y_test[i])] - self.new_predictions[i][np.argmax(y_test[i])]) \n",
        "        print(\"Classification Confidence Variance: {}\".format(ccv_metric/total_val))\n",
        "\n",
        "        cos_metric = 0\n",
        "        for i in range(total_val): cos_metric += distance.jensenshannon(self.old_predictions[i], self.new_predictions[i])\n",
        "        print(\"Classification Output Stability: {}\".format(cos_metric/total_val))"
      ],
      "execution_count": null,
      "outputs": []
    },
    {
      "cell_type": "code",
      "metadata": {
        "id": "6JLT6HWXTaMQ",
        "colab": {
          "base_uri": "https://localhost:8080/"
        },
        "outputId": "d2ce070f-6a1b-4705-e9c4-f68c36a9836b"
      },
      "source": [
        "defense_processor = applyDefenseTechniques(ann_based_classifier)\n",
        "for defense in [\"FeatureSqueezing\", \"SpatialSmoothing\", \"TotalVarMin\"]:\n",
        "  defense_processor.apply_defense(defense, ann_adv_examples_FGSM)"
      ],
      "execution_count": null,
      "outputs": [
        {
          "output_type": "stream",
          "name": "stdout",
          "text": [
            "----Defense Technique Used: FeatureSqueezing----\n",
            "Accuracy on Adversarial Data BEFORE Defense: 0.086\n",
            "Accuracy on Adversarial Data AFTER Defense: 0.641\n",
            "Printing Utility Metrices...\n",
            "\n",
            "Classification Accuracy Variance: 0.555\n",
            "Classification Rectify Ratio: 0.557\n",
            "Classification Confidence Variance: 0.6148170275954373\n",
            "Classification Output Stability: 0.5698746233056211\n",
            "----Defense Technique Used: SpatialSmoothing----\n",
            "Accuracy on Adversarial Data BEFORE Defense: 0.086\n",
            "Accuracy on Adversarial Data AFTER Defense: 0.102\n",
            "Printing Utility Metrices...\n",
            "\n",
            "Classification Accuracy Variance: 0.016\n",
            "Classification Rectify Ratio: 0.021\n",
            "Classification Confidence Variance: 0.014160610569268739\n",
            "Classification Output Stability: 0.0884214502304888\n",
            "----Defense Technique Used: TotalVarMin----\n",
            "Accuracy on Adversarial Data BEFORE Defense: 0.086\n",
            "Accuracy on Adversarial Data AFTER Defense: 0.156\n",
            "Printing Utility Metrices...\n",
            "\n",
            "Classification Accuracy Variance: 0.07\n",
            "Classification Rectify Ratio: 0.086\n",
            "Classification Confidence Variance: 0.057359792303147535\n",
            "Classification Output Stability: 0.2555946037236601\n"
          ]
        }
      ]
    }
  ]
}